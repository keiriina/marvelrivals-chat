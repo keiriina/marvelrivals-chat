{
  "nbformat": 4,
  "nbformat_minor": 0,
  "metadata": {
    "colab": {
      "provenance": [],
      "toc_visible": true,
      "authorship_tag": "ABX9TyNsJdSPHp3oRe4SghYm09lX",
      "include_colab_link": true
    },
    "kernelspec": {
      "name": "python3",
      "display_name": "Python 3"
    },
    "language_info": {
      "name": "python"
    }
  },
  "cells": [
    {
      "cell_type": "markdown",
      "metadata": {
        "id": "view-in-github",
        "colab_type": "text"
      },
      "source": [
        "<a href=\"https://colab.research.google.com/github/keiriina/marvelrivals-chat/blob/main/Marvel_Rivals_Chatbot.ipynb\" target=\"_parent\"><img src=\"https://colab.research.google.com/assets/colab-badge.svg\" alt=\"Open In Colab\"/></a>"
      ]
    },
    {
      "cell_type": "markdown",
      "source": [
        "## Overview\n",
        "\n",
        "I will be building a Marvel Rivals chatbot whom you can talk to about the current stuff about Marvel Rivals.\n",
        "\n",
        "### Procedure\n",
        "We'll do the following steps:\n",
        "- **Step 1: Quickstart** - Learn the quickest and easiest way to call the Chat endpoint.\n",
        "- **Step 2: Creating a custom system prompt** - Steer a chatbot's response toward certain styles, personas, or other characteristics.\n",
        "- **Step 3: Streaming the response** - Display a chatbot's response incrementally as it is generated, as opposed to waiting for the entire response to be completed.\n",
        "- **Step 4: Building the Chat History** - Explore how to get the chatbot to maintain the context of the conversation.\n",
        "- **Step 5: Retrieval-Augmented Generation (RAG): Adding a knowledge base** - Contextualize responses by adding a source of truth where the chatbot should find answers.\n",
        "\n",
        "### References:\n",
        "1. Building a Chatbot - https://cohere.com/llmu/building-a-chatbot\n",
        "2. Introduction to RAG - https://cohere.com/llmu/introduction-to-rag"
      ],
      "metadata": {
        "id": "le0dZ5EX0jyg"
      }
    },
    {
      "cell_type": "markdown",
      "source": [
        "# Building a Marvel Rivals Chatbot"
      ],
      "metadata": {
        "id": "cyyh4-kC0hBu"
      }
    },
    {
      "cell_type": "markdown",
      "source": [
        "## (1) Setup"
      ],
      "metadata": {
        "id": "r-1mttrf0_VM"
      }
    },
    {
      "cell_type": "code",
      "execution_count": null,
      "metadata": {
        "id": "m9JalBVR0YZl"
      },
      "outputs": [],
      "source": [
        "! pip install cohere python-dotenv requests"
      ]
    },
    {
      "cell_type": "code",
      "source": [
        "import cohere\n",
        "import os\n",
        "import dotenv"
      ],
      "metadata": {
        "id": "Tg9yHKyk1Pm_"
      },
      "execution_count": null,
      "outputs": []
    },
    {
      "cell_type": "code",
      "source": [
        "# Load environment variables\n",
        "dotenv.load_dotenv()\n",
        "\n",
        "co = cohere.ClientV2(os.getenv(\"COHERE_API_KEY\"))"
      ],
      "metadata": {
        "id": "D5VIzBxy1TqD"
      },
      "execution_count": null,
      "outputs": []
    },
    {
      "cell_type": "markdown",
      "source": [
        "## (2) Quickstart"
      ],
      "metadata": {
        "id": "oASmdaiy1Kbp"
      }
    },
    {
      "cell_type": "code",
      "source": [
        "message = \"Can you explain to me how Luna Snow works?\""
      ],
      "metadata": {
        "id": "I7ah1sor1iH6"
      },
      "execution_count": null,
      "outputs": []
    },
    {
      "cell_type": "markdown",
      "source": [],
      "metadata": {
        "id": "nqdhP2nb1N3g"
      }
    }
  ]
}
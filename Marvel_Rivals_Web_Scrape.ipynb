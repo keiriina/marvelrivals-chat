{
  "nbformat": 4,
  "nbformat_minor": 0,
  "metadata": {
    "colab": {
      "provenance": [],
      "authorship_tag": "ABX9TyNGX0N12H/N1iHkcrXuOrnO",
      "include_colab_link": true
    },
    "kernelspec": {
      "name": "python3",
      "display_name": "Python 3"
    },
    "language_info": {
      "name": "python"
    }
  },
  "cells": [
    {
      "cell_type": "markdown",
      "metadata": {
        "id": "view-in-github",
        "colab_type": "text"
      },
      "source": [
        "<a href=\"https://colab.research.google.com/github/keiriina/marvelrivals-chat/blob/main/Marvel_Rivals_Web_Scrape.ipynb\" target=\"_parent\"><img src=\"https://colab.research.google.com/assets/colab-badge.svg\" alt=\"Open In Colab\"/></a>"
      ]
    },
    {
      "cell_type": "code",
      "execution_count": null,
      "metadata": {
        "id": "wb0uJMf04HYj"
      },
      "outputs": [],
      "source": []
    },
    {
      "cell_type": "markdown",
      "source": [
        "# WebScraping Marvel Rivals content\n",
        "\n",
        "This is a notebook intended to webscrape: https://marvelrivals.fandom.com"
      ],
      "metadata": {
        "id": "ZxDUKh4v44o9"
      }
    },
    {
      "cell_type": "markdown",
      "source": [
        "## Setup\n"
      ],
      "metadata": {
        "id": "jUAtEG_t5HTw"
      }
    },
    {
      "cell_type": "code",
      "source": [
        "! pip install beautifulsoup4"
      ],
      "metadata": {
        "id": "OB9ycM2r5CgI"
      },
      "execution_count": 1,
      "outputs": []
    },
    {
      "cell_type": "code",
      "source": [
        "# define urls\n",
        "base_url = \"https://marvelrivals.fandom.com\"\n",
        "start_url = base_url + \"/wiki/\""
      ],
      "metadata": {
        "id": "vJZSdZ075Fak"
      },
      "execution_count": 2,
      "outputs": []
    },
    {
      "cell_type": "code",
      "source": [],
      "metadata": {
        "id": "MDAUVf0s6n8O"
      },
      "execution_count": null,
      "outputs": []
    }
  ]
}